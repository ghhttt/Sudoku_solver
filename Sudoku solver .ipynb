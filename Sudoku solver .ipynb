{
 "cells": [
  {
   "cell_type": "code",
   "execution_count": 1,
   "metadata": {},
   "outputs": [],
   "source": [
    "import time\n",
    "import copy\n",
    "import itertools"
   ]
  },
  {
   "cell_type": "code",
   "execution_count": 2,
   "metadata": {},
   "outputs": [],
   "source": [
    "M = 9\n",
    "grid = [[0, 7, 0, 0, 0, 4, 5, 0, 0],\n",
    "        [0, 8, 0, 0, 0, 0, 0, 0, 0],\n",
    "        [2, 0, 0, 0, 0, 0, 7, 8, 0],\n",
    "        [0, 0, 0, 0, 0, 9, 0, 2, 0],\n",
    "        [0, 0, 0, 5, 0, 0, 0, 0, 4],\n",
    "        [9, 0, 6, 0, 0, 0, 0, 0, 1],\n",
    "        [0, 0, 3, 0, 2, 0, 0, 0, 0],\n",
    "        [0, 1, 2, 0, 4, 0, 0, 0, 0],\n",
    "        [0, 0, 0, 8, 7, 5, 0, 0, 0]]"
   ]
  },
  {
   "cell_type": "code",
   "execution_count": 3,
   "metadata": {},
   "outputs": [],
   "source": [
    "def puzzle(a):\n",
    "    for i in range(M):\n",
    "        for j in range(M):\n",
    "            print(a[i][j],end = \" \")\n",
    "        print()"
   ]
  },
  {
   "cell_type": "code",
   "execution_count": 4,
   "metadata": {},
   "outputs": [],
   "source": [
    "# Check whether a specific number can be used for specific dimensions\n",
    "def isValid(board, num, pos):\n",
    "\n",
    "    row, col = pos\n",
    "    # Check if all row elements include this number\n",
    "    for j in range(9):\n",
    "        if board[row][j] == num:\n",
    "            return False\n",
    "\n",
    "    # Check if all column elements include this number\n",
    "    for i in range(9):\n",
    "        if board[i][col] == num:\n",
    "            return False\n",
    "\n",
    "    # Check if the number is already included in the block\n",
    "    rowBlockStart = 3* (row // 3)\n",
    "    colBlockStart = 3* (col // 3)\n",
    "\n",
    "    rowBlockEnd = rowBlockStart + 3\n",
    "    colBlockEnd = colBlockStart + 3\n",
    "    for i in range(rowBlockStart, rowBlockEnd):\n",
    "        for j in range(colBlockStart, colBlockEnd):\n",
    "            if board[i][j] == num:\n",
    "                return False\n",
    "\n",
    "    return True"
   ]
  },
  {
   "cell_type": "code",
   "execution_count": 5,
   "metadata": {},
   "outputs": [],
   "source": [
    "def Suduko(grid, row, col):\n",
    " \n",
    "    if (row == M - 1 and col == M):\n",
    "        return True\n",
    "    if col == M:\n",
    "        row += 1\n",
    "        col = 0\n",
    "    if grid[row][col] > 0:\n",
    "        return Suduko(grid, row, col + 1)\n",
    "    for num in range(1, M + 1, 1): \n",
    "     \n",
    "        if isValid(grid, num, (row, col)):\n",
    "         \n",
    "            grid[row][col] = num\n",
    "            if Suduko(grid, row, col + 1):\n",
    "                return True\n",
    "        grid[row][col] = 0\n",
    "    return False"
   ]
  },
  {
   "cell_type": "code",
   "execution_count": 6,
   "metadata": {},
   "outputs": [
    {
     "name": "stdout",
     "output_type": "stream",
     "text": [
      "6 7 1 2 8 4 5 3 9 \n",
      "3 8 5 6 9 7 1 4 2 \n",
      "2 9 4 1 5 3 7 8 6 \n",
      "5 3 8 4 1 9 6 2 7 \n",
      "1 2 7 5 6 8 3 9 4 \n",
      "9 4 6 7 3 2 8 5 1 \n",
      "7 5 3 9 2 1 4 6 8 \n",
      "8 1 2 3 4 6 9 7 5 \n",
      "4 6 9 8 7 5 2 1 3 \n",
      "--- 2.900547504425049 seconds ---\n"
     ]
    }
   ],
   "source": [
    "start_time = time.time()\n",
    "'''0 means the cells where no value is assigned'''\n",
    "grid_solve = copy.deepcopy(grid)\n",
    "if (Suduko(grid_solve, 0, 0)):\n",
    "    puzzle(grid_solve)\n",
    "else:\n",
    "    print(\"Solution does not exist:(\")\n",
    "\n",
    "print(\"--- %s seconds ---\" % (time.time() - start_time))"
   ]
  },
  {
   "cell_type": "code",
   "execution_count": 7,
   "metadata": {},
   "outputs": [],
   "source": [
    "# Better solution"
   ]
  },
  {
   "cell_type": "code",
   "execution_count": 8,
   "metadata": {},
   "outputs": [],
   "source": [
    "# Store in a dictionary the legitimate values for each individual cell\n",
    "def cacheValidValues(board):\n",
    "    cache = dict()\n",
    "    for i in range(9):\n",
    "        for j in range(9):\n",
    "            if board[i][j] == 0:\n",
    "                cache[(i,j)] = allowedValues(board,i,j)\n",
    "    return cache"
   ]
  },
  {
   "cell_type": "code",
   "execution_count": 9,
   "metadata": {},
   "outputs": [],
   "source": [
    "def allowedValues_old(board,row,col):\n",
    "\n",
    "    numbersList = list()\n",
    "\n",
    "    for number in range(1,10):\n",
    "\n",
    "        found = False\n",
    "        # Check if all row elements include this number\n",
    "        for j in range(9):\n",
    "            if board[row][j] == number:\n",
    "                found = True\n",
    "                break\n",
    "        # Check if all column elements include this number\n",
    "        if found == True:\n",
    "            continue\n",
    "        else:\n",
    "            for i in range(9):\n",
    "                if board[i][col] == number:\n",
    "                    found = True\n",
    "                    break\n",
    "\n",
    "        # Check if the number is already included in the block\n",
    "        if found == True:\n",
    "            continue\n",
    "        else:\n",
    "            rowBlockStart = 3* (row // 3)\n",
    "            colBlockStart = 3* (col // 3)\n",
    "\n",
    "            rowBlockEnd = rowBlockStart + 3\n",
    "            colBlockEnd = colBlockStart + 3\n",
    "            for i in range(rowBlockStart, rowBlockEnd):\n",
    "                for j in range(colBlockStart, colBlockEnd):\n",
    "                    if board[i][j] == number:\n",
    "                        found = True\n",
    "                        break\n",
    "        if found == False:\n",
    "            numbersList.append(number)\n",
    "    return numbersList"
   ]
  },
  {
   "cell_type": "code",
   "execution_count": 10,
   "metadata": {},
   "outputs": [],
   "source": [
    "def allowedValues(board,row,col):\n",
    "\n",
    "    numbersList = list([i for i in range(1,10)])\n",
    "    \n",
    "    SquareRow = (row // 3)*3\n",
    "    squareColumn = (col // 3)*3\n",
    "    numbers = board[int(row)] + [board[r][col] for r in range(9)] + [board[y][z] for y in range(SquareRow, SquareRow+3) for z in range(squareColumn, squareColumn+3)]\n",
    "    numbers = list(set(numbers))\n",
    "    if 0 in numbers:\n",
    "        numbers.remove(0)\n",
    "    for number in numbers:\n",
    "        numbersList.remove(number)\n",
    "    \n",
    "    return numbersList"
   ]
  },
  {
   "cell_type": "code",
   "execution_count": 11,
   "metadata": {},
   "outputs": [],
   "source": [
    "# Find next empty space in Sudoku board and return dimensions\n",
    "def findEmpty(board):\n",
    "    for row in range(9):\n",
    "        for col in range(9):\n",
    "            if board[row][col] == 0 :\n",
    "                return row,col\n",
    "    return None"
   ]
  },
  {
   "cell_type": "code",
   "execution_count": 12,
   "metadata": {},
   "outputs": [],
   "source": [
    "def solveWithCache(board, cache):\n",
    "    blank = findEmpty(board)\n",
    "    if not blank:\n",
    "        return True\n",
    "    else:\n",
    "        row, col = blank\n",
    "\n",
    "    for value in cache[(row,col)]:\n",
    "        if isValid(board, value, blank):\n",
    "            board[row][col] = value\n",
    "\n",
    "            if solveWithCache(board, cache):\n",
    "                return True\n",
    "\n",
    "            board[row][col] = 0\n",
    "    return False"
   ]
  },
  {
   "cell_type": "code",
   "execution_count": 13,
   "metadata": {},
   "outputs": [],
   "source": [
    "# Find the case with the least possibilities ro reduce time\n",
    "def solveWithCache_v2(board):\n",
    "    cache = cacheValidValues(board)\n",
    "    if not cache:\n",
    "        return True\n",
    "    else:\n",
    "        ((row,col),liste) = min(cache.items(), key=lambda x: len(x[1]))\n",
    "\n",
    "    for value in liste:\n",
    "        board[row][col] = value\n",
    "\n",
    "        if solveWithCache_v2(board):\n",
    "            return True\n",
    "\n",
    "        board[row][col] = 0\n",
    "    return False"
   ]
  },
  {
   "cell_type": "code",
   "execution_count": 14,
   "metadata": {},
   "outputs": [],
   "source": [
    "# Making use of the available information on each row, change the order that\n",
    "# each value will be 'guessed' by our algorithm\n",
    "def orderedValidValues_v2(board, cache):\n",
    "    cachePriority = dict()\n",
    "    countAppearanceRow = [dict() for i in range(9)]\n",
    "    countAppearanceCol = [dict() for i in range(9)]\n",
    "    countAppearanceBlock = [dict() for i in range(9)]\n",
    "    for row in range(9):\n",
    "        tempList = list()\n",
    "\n",
    "        # Iterate through the columns of a row and count appearance of numbers\n",
    "        # within the cache\n",
    "        for col in range(9):\n",
    "            if (row,col) in cache.keys():\n",
    "                for value in cache[(row,col)]:\n",
    "                    tempList.append(value)\n",
    "        tempSet = set(tempList)\n",
    "        for number in tempSet:\n",
    "            countAppearanceRow[row][number] = tempList.count(number)\n",
    "\n",
    "\n",
    "    for col in range(9):\n",
    "        tempList = list()\n",
    "\n",
    "        # Iterate through the rows of a column and count appearance of numbers\n",
    "        # within the cache\n",
    "        for row in range(9):\n",
    "            if (row,col) in cache.keys():\n",
    "                for value in cache[(row,col)]:\n",
    "                    tempList.append(value)\n",
    "        tempSet = set(tempList)\n",
    "        for number in tempSet:\n",
    "            countAppearanceCol[col][number] = tempList.count(number)\n",
    "\n",
    "    # Iterate through the 9 different blocks of the board and count\n",
    "    # appearance of numbers within the cache\n",
    "    rowBlockStart = 0\n",
    "    colBlockStart = 0\n",
    "    blockNumber = 0\n",
    "    while True:\n",
    "\n",
    "        rowBlockEnd = rowBlockStart + 3\n",
    "        colBlockEnd = colBlockStart + 3\n",
    "        tempList = list()\n",
    "        for row in range(rowBlockStart,rowBlockEnd):\n",
    "            for col in range(colBlockStart,colBlockEnd):\n",
    "                if (row,col) in cache.keys():\n",
    "                    for value in cache[(row,col)]:\n",
    "                        tempList.append(value)\n",
    "        tempSet = set(tempList)\n",
    "        for number in tempSet:\n",
    "            countAppearanceBlock[blockNumber][number] = tempList.count(number)\n",
    "        if rowBlockStart == 6 and colBlockStart == 6:\n",
    "            break\n",
    "        elif colBlockStart == 6:\n",
    "            rowBlockStart += 3\n",
    "            colBlockStart = 0\n",
    "        else:\n",
    "            colBlockStart += 3\n",
    "        blockNumber += 1\n",
    "\n",
    "    for row in range(9):\n",
    "        for col in range(9):\n",
    "            tempList = list()\n",
    "            blockNumber = (row // 3) * 3 + col // 3\n",
    "            if (row,col) in cache.keys():\n",
    "                for value in cache[(row,col)]:\n",
    "                    freq = countAppearanceRow[row][value] + countAppearanceCol[col][value] + countAppearanceBlock[blockNumber][value]\n",
    "                    tempList.append(freq)\n",
    "                cachePriority[(row,col)] = tempList\n",
    "\n",
    "\n",
    "    for row in range(9):\n",
    "        for col in range(9):\n",
    "            if (row,col) in cache.keys():\n",
    "                cache[(row,col)] = [i for _,i in sorted(zip(cachePriority[(row,col)], cache[(row,col)]))]\n",
    "    \n",
    "\n",
    "    return cache"
   ]
  },
  {
   "cell_type": "code",
   "execution_count": 15,
   "metadata": {},
   "outputs": [
    {
     "name": "stdout",
     "output_type": "stream",
     "text": [
      "6 7 1 2 8 4 5 3 9 \n",
      "3 8 5 6 9 7 1 4 2 \n",
      "2 9 4 1 5 3 7 8 6 \n",
      "5 3 8 4 1 9 6 2 7 \n",
      "1 2 7 5 6 8 3 9 4 \n",
      "9 4 6 7 3 2 8 5 1 \n",
      "7 5 3 9 2 1 4 6 8 \n",
      "8 1 2 3 4 6 9 7 5 \n",
      "4 6 9 8 7 5 2 1 3 \n",
      "--- 2.436713933944702 seconds ---\n"
     ]
    }
   ],
   "source": [
    "start_time = time.time()\n",
    "'''0 means the cells where no value is assigned'''\n",
    "\n",
    "\n",
    "grid_solve = copy.deepcopy(grid)\n",
    "cache = cacheValidValues(grid_solve)\n",
    "if (solveWithCache(grid_solve,cache)):\n",
    "    puzzle(grid_solve)\n",
    "else:\n",
    "    print(\"Solution does not exist:(\")\n",
    "print(\"--- %s seconds ---\" % (time.time() - start_time))"
   ]
  },
  {
   "cell_type": "code",
   "execution_count": 16,
   "metadata": {},
   "outputs": [
    {
     "name": "stdout",
     "output_type": "stream",
     "text": [
      "6 7 1 2 8 4 5 3 9 \n",
      "3 8 5 6 9 7 1 4 2 \n",
      "2 9 4 1 5 3 7 8 6 \n",
      "5 3 8 4 1 9 6 2 7 \n",
      "1 2 7 5 6 8 3 9 4 \n",
      "9 4 6 7 3 2 8 5 1 \n",
      "7 5 3 9 2 1 4 6 8 \n",
      "8 1 2 3 4 6 9 7 5 \n",
      "4 6 9 8 7 5 2 1 3 \n",
      "--- 0.024935483932495117 seconds ---\n"
     ]
    }
   ],
   "source": [
    "start_time = time.time()\n",
    "'''0 means the cells where no value is assigned'''\n",
    "\n",
    "\n",
    "grid_solve = copy.deepcopy(grid)\n",
    "if (solveWithCache_v2(grid_solve)):\n",
    "    puzzle(grid_solve)\n",
    "else:\n",
    "    print(\"Solution does not exist:(\")\n",
    "print(\"--- %s seconds ---\" % (time.time() - start_time))"
   ]
  },
  {
   "cell_type": "code",
   "execution_count": 153,
   "metadata": {},
   "outputs": [],
   "source": [
    "# Recursive + iterative"
   ]
  },
  {
   "cell_type": "code",
   "execution_count": 247,
   "metadata": {},
   "outputs": [],
   "source": [
    "# Making use of the available information on each row, change the order that\n",
    "# each value will be 'guessed' by our algorithm\n",
    "def orderedValidValues_v3(board, cache):\n",
    "    cachePriority = dict()\n",
    "    countAppearanceRow = [dict.fromkeys([j for j in range(1,10)], 0) for i in range(9)]\n",
    "    countAppearanceCol = [dict.fromkeys([j for j in range(1,10)], 0) for i in range(9)]\n",
    "    countAppearanceBlock = [dict.fromkeys([j for j in range(1,10)], 0) for i in range(9)]\n",
    "    \n",
    "    \n",
    "    for (row,col) in cache.keys():\n",
    "        values = cache[(row,col)]\n",
    "        blockNumber = (row // 3) * 3 + col // 3\n",
    "        for value in values:\n",
    "            countAppearanceRow[row][value] += 1\n",
    "            countAppearanceCol[col][value] += 1\n",
    "            countAppearanceBlock[blockNumber][value] += 1\n",
    "            \n",
    "\n",
    "    boolean = False\n",
    "    for (row,col) in cache.keys():\n",
    "        values = cache[(row,col)]\n",
    "        blockNumber = (row // 3) * 3 + col // 3\n",
    "        for value in values:\n",
    "            if countAppearanceRow[row][value] == 1 or countAppearanceCol[col][value] == 1 or countAppearanceBlock[blockNumber][value] == 1:\n",
    "                board[row][col] = value\n",
    "                boolean = True\n",
    "    return boolean"
   ]
  },
  {
   "cell_type": "code",
   "execution_count": 248,
   "metadata": {},
   "outputs": [
    {
     "name": "stdout",
     "output_type": "stream",
     "text": [
      "6 7 1 2 8 4 5 3 9 \n",
      "3 8 5 6 9 7 1 4 2 \n",
      "2 9 4 1 5 3 7 8 6 \n",
      "5 3 8 4 1 9 6 2 7 \n",
      "1 2 7 5 6 8 3 9 4 \n",
      "9 4 6 7 3 2 8 5 1 \n",
      "7 5 3 9 2 1 4 6 8 \n",
      "8 1 2 3 4 6 9 7 5 \n",
      "4 6 9 8 7 5 2 1 3 \n",
      "--- 0.028921842575073242 seconds ---\n"
     ]
    }
   ],
   "source": [
    "start_time = time.time()\n",
    "'''0 means the cells where no value is assigned'''\n",
    "\n",
    "\n",
    "grid_solve = copy.deepcopy(grid)\n",
    "valuesFound = True\n",
    "while valuesFound:\n",
    "    cacheValid = cacheValidValues(grid_solve)\n",
    "    valuesFound = orderedValidValues_v3(grid_solve, cacheValid)\n",
    "#     puzzle(grid_solve)\n",
    "#     print(\"\\n\\n\")\n",
    "\n",
    "if (solveWithCache_v2(grid_solve)):\n",
    "    puzzle(grid_solve)\n",
    "else:\n",
    "    print(\"Solution does not exist:(\")\n",
    "print(\"--- %s seconds ---\" % (time.time() - start_time))"
   ]
  },
  {
   "cell_type": "code",
   "execution_count": null,
   "metadata": {},
   "outputs": [],
   "source": []
  }
 ],
 "metadata": {
  "kernelspec": {
   "display_name": "Python 3 (ipykernel)",
   "language": "python",
   "name": "python3"
  },
  "language_info": {
   "codemirror_mode": {
    "name": "ipython",
    "version": 3
   },
   "file_extension": ".py",
   "mimetype": "text/x-python",
   "name": "python",
   "nbconvert_exporter": "python",
   "pygments_lexer": "ipython3",
   "version": "3.11.4"
  }
 },
 "nbformat": 4,
 "nbformat_minor": 4
}
